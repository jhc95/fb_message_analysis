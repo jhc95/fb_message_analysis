{
 "cells": [
  {
   "cell_type": "code",
   "execution_count": null,
   "metadata": {},
   "outputs": [],
   "source": [
    "from bs4 import BeautifulSoup\n",
    "import requests\n",
    "import io\n",
    "import re\n",
    "import pandas as pd\n",
    "import matplotlib\n",
    "%matplotlib inline"
   ]
  },
  {
   "cell_type": "code",
   "execution_count": null,
   "metadata": {},
   "outputs": [],
   "source": [
    "with io.open(\"message.html\", \"r\", encoding=\"utf-8\") as my_file:\n",
    "     page = my_file.read() "
   ]
  },
  {
   "cell_type": "code",
   "execution_count": null,
   "metadata": {},
   "outputs": [],
   "source": [
    "soup = BeautifulSoup(page, \"html.parser\")"
   ]
  },
  {
   "cell_type": "code",
   "execution_count": null,
   "metadata": {},
   "outputs": [],
   "source": [
    "texts = soup.findAll(text=True)"
   ]
  },
  {
   "cell_type": "code",
   "execution_count": null,
   "metadata": {},
   "outputs": [],
   "source": [
    "texts = texts[7:len(texts) - 1]"
   ]
  },
  {
   "cell_type": "code",
   "execution_count": null,
   "metadata": {},
   "outputs": [],
   "source": [
    "dates = {}\n",
    "words_dict = {}\n",
    "phrases = {}\n",
    "my_phrases = {}\n",
    "her_phrases = {}\n",
    "my_words = {}\n",
    "her_words = {}\n",
    "her = True\n",
    "me = False\n",
    "her_name = ''\n",
    "my_name = ''\n",
    "r = re.compile('....\\.(.|..)\\.(.|..)\\.')\n",
    "for i in range(0, len(texts)):\n",
    "    if len(texts[i].split()) >= 3:\n",
    "        date = ''.join(texts[i].split()[j] for j in range(0,3))\n",
    "    else:\n",
    "        date = texts[i]\n",
    "    if texts[i] == her_name:\n",
    "        her = True\n",
    "        me = False\n",
    "    elif texts[i] == my_name:\n",
    "        me = True\n",
    "        her = False\n",
    "    elif r.match(date) is not None:\n",
    "        if date in dates:\n",
    "            dates[date] = dates[date] + 1\n",
    "        else:\n",
    "            dates[date] = 1\n",
    "    else:\n",
    "        phrase = texts[i].lower()\n",
    "        if phrase in phrases:\n",
    "            phrases[phrase] = phrases[phrase] + 1\n",
    "        else:\n",
    "            phrases[phrase] = 1\n",
    "        words = phrase.split()\n",
    "        for word in words:\n",
    "            if word in words_dict:\n",
    "                words_dict[word] = words_dict[word] + 1\n",
    "            else:\n",
    "                words_dict[word] = 1\n",
    "            if her:\n",
    "                if word in her_words:\n",
    "                    her_words[word] = her_words[word] + 1\n",
    "                else:\n",
    "                    her_words[word] = 1\n",
    "            elif me:\n",
    "                if word in my_words:\n",
    "                    my_words[word] = my_words[word] + 1\n",
    "                else:\n",
    "                    my_words[word] = 1\n",
    "        if her:\n",
    "            if phrase in her_phrases:\n",
    "                her_phrases[phrase] = her_phrases[phrase] + 1\n",
    "            else:\n",
    "                her_phrases[phrase] = 1\n",
    "        elif me: \n",
    "            if phrase in my_phrases:\n",
    "                my_phrases[phrase] = my_phrases[phrase] + 1\n",
    "            else:\n",
    "                my_phrases[phrase] = 1"
   ]
  },
  {
   "cell_type": "code",
   "execution_count": null,
   "metadata": {},
   "outputs": [],
   "source": [
    "dates_df = pd.DataFrame.from_dict(dates, orient='index')\n",
    "dates_df.columns = [\"frequency\"]\n",
    "dates_df.sort_values(by=\"frequency\", ascending=False).head(20).plot.bar()\n",
    "mean_messages = dates_df[\"frequency\"].sum()/dates_df.shape[0]\n",
    "dates_df.sort_values(by=\"frequency\", ascending=False).head(20)"
   ]
  },
  {
   "cell_type": "code",
   "execution_count": null,
   "metadata": {},
   "outputs": [],
   "source": [
    "phrases_df = pd.DataFrame.from_dict(phrases, orient='index')\n",
    "phrases_df.columns = [\"frequency\"]\n",
    "phrases_df.sort_values(by=\"frequency\", ascending=False).head(20).plot.bar()\n",
    "total_count = phrases_df[\"frequency\"].sum()\n",
    "phrases_df.sort_values(by=\"frequency\", ascending=False).head(20)"
   ]
  },
  {
   "cell_type": "code",
   "execution_count": null,
   "metadata": {},
   "outputs": [],
   "source": [
    "print(\"Mean messages: {}\".format(mean_messages))"
   ]
  },
  {
   "cell_type": "code",
   "execution_count": null,
   "metadata": {},
   "outputs": [],
   "source": [
    "words_df = pd.DataFrame.from_dict(words_dict, orient='index')\n",
    "words_df.columns = [\"frequency\"]\n",
    "words_df.sort_values(by=\"frequency\", ascending=False).head(20).plot.bar()\n",
    "words_df.sort_values(by=\"frequency\", ascending=False).head(20)\n"
   ]
  },
  {
   "cell_type": "code",
   "execution_count": null,
   "metadata": {},
   "outputs": [],
   "source": [
    "her_df = pd.DataFrame.from_dict(her_phrases, orient='index')\n",
    "her_df.columns = [\"frequency\"]\n",
    "her_count = her_df[\"frequency\"].sum()\n",
    "her_df.sort_values(by=\"frequency\", ascending = False).head(20)"
   ]
  },
  {
   "cell_type": "code",
   "execution_count": null,
   "metadata": {},
   "outputs": [],
   "source": [
    "my_df = pd.DataFrame.from_dict(my_phrases, orient='index')\n",
    "my_df.columns = [\"frequency\"]\n",
    "my_count = my_df[\"frequency\"].sum()\n",
    "my_df.sort_values(by=\"frequency\", ascending = False).head(20)"
   ]
  },
  {
   "cell_type": "code",
   "execution_count": null,
   "metadata": {},
   "outputs": [],
   "source": [
    "my_words_df = pd.DataFrame.from_dict(my_words, orient='index')\n",
    "my_words_df.columns = [\"frequency\"]\n",
    "my_words_df.sort_values(by=\"frequency\", ascending = False).head(20)"
   ]
  },
  {
   "cell_type": "code",
   "execution_count": null,
   "metadata": {},
   "outputs": [],
   "source": [
    "her_words_df = pd.DataFrame.from_dict(her_words, orient='index')\n",
    "her_words_df.columns = [\"frequency\"]\n",
    "her_words_df.sort_values(by=\"frequency\", ascending = False).head(20)"
   ]
  },
  {
   "cell_type": "code",
   "execution_count": null,
   "metadata": {},
   "outputs": [],
   "source": [
    "print(\"My messages: {}\".format(my_count))\n",
    "print(\"Her messages: {}\".format(her_count))\n",
    "print(\"Total messages: {}\".format(total_count))"
   ]
  },
  {
   "cell_type": "code",
   "execution_count": null,
   "metadata": {},
   "outputs": [],
   "source": []
  },
  {
   "cell_type": "code",
   "execution_count": null,
   "metadata": {},
   "outputs": [],
   "source": []
  }
 ],
 "metadata": {
  "kernelspec": {
   "display_name": "Python 3",
   "language": "python",
   "name": "python3"
  },
  "language_info": {
   "codemirror_mode": {
    "name": "ipython",
    "version": 3
   },
   "file_extension": ".py",
   "mimetype": "text/x-python",
   "name": "python",
   "nbconvert_exporter": "python",
   "pygments_lexer": "ipython3",
   "version": "3.7.0"
  }
 },
 "nbformat": 4,
 "nbformat_minor": 2
}
